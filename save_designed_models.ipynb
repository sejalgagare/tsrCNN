{
 "cells": [
  {
   "cell_type": "markdown",
   "metadata": {},
   "source": [
    "# Course:  Convolutional Neural Networks for Image Classification\n",
    "\n",
    "## Section-5\n",
    "### Construct deep architectures for CNN models\n",
    "#### Save designed deep CNN models into binary files\n",
    "\n",
    "**Description:**  \n",
    "*Save all designed deep networks into binary files  \n",
    "Visualize and save structure of the models*\n",
    "\n",
    "**File:** *save_designed_models.ipynb*"
   ]
  },
  {
   "cell_type": "markdown",
   "metadata": {},
   "source": [
    "### Algorithm:\n",
    "\n",
    "**-->** Save models  \n",
    "**-->** Load and Visualize saved CNN models  \n",
    "\n",
    "\n",
    "**Result:**  \n",
    "- Binary files with saved models for every dataset  \n"
   ]
  },
  {
   "cell_type": "markdown",
   "metadata": {},
   "source": [
    "## Importing libraries"
   ]
  },
  {
   "cell_type": "code",
   "execution_count": 2,
   "metadata": {},
   "outputs": [],
   "source": [
    "# Importing needed libraries\n",
    "import numpy as np\n",
    "import h5py\n",
    "\n",
    "\n",
    "from keras.models import Sequential, load_model\n",
    "from keras.layers import Conv2D, MaxPool2D, Flatten, Dense, Dropout, AvgPool2D\n",
    "#from keras.utils import plot_model\n",
    "from tensorflow.keras.utils import plot_model\n"
   ]
  },
  {
   "cell_type": "markdown",
   "metadata": {},
   "source": [
    "### Traffic Signs dataset\n",
    "\n",
    "## Saving models"
   ]
  },
  {
   "cell_type": "code",
   "execution_count": 18,
   "metadata": {},
   "outputs": [
    {
     "name": "stdout",
     "output_type": "stream",
     "text": [
      "4 models are saved successfully\n"
     ]
    }
   ],
   "source": [
    "# Building and saving models for Traffic Signs dataset\n",
    "# Input --> {128C5-P2-D30} --> {256C5-P2-D30} --> {512C5-P2-D30} --> {1024C3-P2-D30} --> 2048-D30 --> 43\n",
    "# Input --> {128C24-P2-D30} --> 256-D30 --> 43\n",
    "\n",
    "\n",
    "\n",
    "# Building 1st model for RGB datasets\n",
    "# RGB --> {128C5-P2-D30} --> {256C5-P2-D30} --> {512C5-P2-D30} --> {1024C3-P2-D30} --> 2048-D30 --> 43\n",
    "\n",
    "# Initializing model to be as linear stack of layers\n",
    "model = Sequential()\n",
    "\n",
    "# Adding first convolutional-pooling pair\n",
    "model.add(Conv2D(128, kernel_size=5, padding='same', activation='relu', input_shape=(48, 48, 3)))\n",
    "model.add(MaxPool2D())\n",
    "model.add(Dropout(0.3))\n",
    "\n",
    "# Adding second convolutional-pooling pair\n",
    "model.add(Conv2D(256, kernel_size=5, padding='same', activation='relu'))\n",
    "model.add(MaxPool2D())\n",
    "model.add(Dropout(0.3))\n",
    "\n",
    "# Adding third convolutional-pooling pair\n",
    "model.add(Conv2D(512, kernel_size=5, padding='same', activation='relu'))\n",
    "model.add(MaxPool2D())\n",
    "model.add(Dropout(0.3))\n",
    "\n",
    "# Adding fourth convolutional-pooling pair\n",
    "model.add(Conv2D(1024, kernel_size=3, padding='same', activation='relu'))\n",
    "model.add(MaxPool2D())\n",
    "model.add(Dropout(0.3))\n",
    "\n",
    "# Adding fully connected layers\n",
    "model.add(Flatten())\n",
    "model.add(Dense(2048, activation='relu'))\n",
    "model.add(Dropout(0.3))\n",
    "model.add(Dense(43, activation='softmax'))\n",
    "\n",
    "# Compiling created model\n",
    "model.compile(optimizer='adam', loss='categorical_crossentropy', metrics=['accuracy'])\n",
    "\n",
    "# Saving 1st model for RGB datasets\n",
    "# (!) On Windows, it might need to change\n",
    "# this: + '/' +\n",
    "# to this: + '\\' +\n",
    "# or to this: + '\\\\' +\n",
    "model.save('ts' + '/' + 'model_1_ts_rgb.h5')\n",
    "\n",
    "\n",
    "\n",
    "# Building 1st model for GRAY datasets\n",
    "# GRAY --> {128C5-P2-D30} --> {256C5-P2-D30} --> {512C5-P2-D30} --> {1024C3-P2-D30} --> 2048-D30 --> 43\n",
    "\n",
    "# Initializing model to be as linear stack of layers\n",
    "model = Sequential()\n",
    "\n",
    "# Adding first convolutional-pooling pair\n",
    "model.add(Conv2D(128, kernel_size=5, padding='same', activation='relu', input_shape=(48, 48, 1)))\n",
    "model.add(MaxPool2D())\n",
    "model.add(Dropout(0.3))\n",
    "\n",
    "# Adding second convolutional-pooling pair\n",
    "model.add(Conv2D(256, kernel_size=5, padding='same', activation='relu'))\n",
    "model.add(MaxPool2D())\n",
    "model.add(Dropout(0.3))\n",
    "\n",
    "# Adding third convolutional-pooling pair\n",
    "model.add(Conv2D(512, kernel_size=5, padding='same', activation='relu'))\n",
    "model.add(MaxPool2D())\n",
    "model.add(Dropout(0.3))\n",
    "\n",
    "# Adding fourth convolutional-pooling pair\n",
    "model.add(Conv2D(1024, kernel_size=3, padding='same', activation='relu'))\n",
    "model.add(MaxPool2D())\n",
    "model.add(Dropout(0.3))\n",
    "\n",
    "# Adding fully connected layers\n",
    "model.add(Flatten())\n",
    "model.add(Dense(2048, activation='relu'))\n",
    "model.add(Dropout(0.3))\n",
    "model.add(Dense(43, activation='softmax'))\n",
    "\n",
    "# Compiling created model\n",
    "model.compile(optimizer='adam', loss='categorical_crossentropy', metrics=['accuracy'])\n",
    "\n",
    "# Saving 1st model for GRAY datasets\n",
    "# (!) On Windows, it might need to change\n",
    "# this: + '/' +\n",
    "# to this: + '\\' +\n",
    "# or to this: + '\\\\' +\n",
    "model.save('ts' + '/' + 'model_1_ts_gray.h5')\n",
    "\n",
    "\n",
    "\n",
    "# Building 2nd model for RGB datasets\n",
    "# RGB --> {128C24-P2-D30} --> 256-D30 --> 43\n",
    "\n",
    "# Initializing model to be as linear stack of layers\n",
    "model = Sequential()\n",
    "\n",
    "# Adding first convolutional-pooling pair\n",
    "model.add(Conv2D(128, kernel_size=24, padding='same', activation='relu', input_shape=(48, 48, 3)))\n",
    "model.add(MaxPool2D())\n",
    "model.add(Dropout(0.3))\n",
    "\n",
    "# Adding fully connected layers\n",
    "model.add(Flatten())\n",
    "model.add(Dense(256, activation='relu'))\n",
    "model.add(Dropout(0.3))\n",
    "model.add(Dense(43, activation='softmax'))\n",
    "\n",
    "# Compiling created model\n",
    "model.compile(optimizer='adam', loss='categorical_crossentropy', metrics=['accuracy'])\n",
    "\n",
    "# Saving 2nd model for RGB datasets\n",
    "# (!) On Windows, it might need to change\n",
    "# this: + '/' +\n",
    "# to this: + '\\' +\n",
    "# or to this: + '\\\\' +\n",
    "model.save('ts' + '/' + 'model_2_ts_rgb.h5')\n",
    "\n",
    "\n",
    "\n",
    "# Building 2nd model for GRAY datasets\n",
    "# GRAY --> {128C24-P2-D30} --> 256-D30 --> 43\n",
    "\n",
    "# Initializing model to be as linear stack of layers\n",
    "model = Sequential()\n",
    "\n",
    "# Adding first convolutional-pooling pair\n",
    "model.add(Conv2D(128, kernel_size=24, padding='same', activation='relu', input_shape=(48, 48, 1)))\n",
    "model.add(MaxPool2D())\n",
    "model.add(Dropout(0.3))\n",
    "\n",
    "# Adding fully connected layers\n",
    "model.add(Flatten())\n",
    "model.add(Dense(256, activation='relu'))\n",
    "model.add(Dropout(0.3))\n",
    "model.add(Dense(43, activation='softmax'))\n",
    "\n",
    "# Compiling created model\n",
    "model.compile(optimizer='adam', loss='categorical_crossentropy', metrics=['accuracy'])\n",
    "\n",
    "# Saving 2nd model for GRAY datasets\n",
    "# (!) On Windows, it might need to change\n",
    "# this: + '/' +\n",
    "# to this: + '\\' +\n",
    "# or to this: + '\\\\' +\n",
    "model.save('ts' + '/' + 'model_2_ts_gray.h5')\n",
    "\n",
    "\n",
    "\n",
    "# Check point\n",
    "print('4 models are saved successfully')\n"
   ]
  },
  {
   "cell_type": "markdown",
   "metadata": {},
   "source": [
    "### Traffic Signs dataset\n",
    "\n",
    "## Loading and Visualizing saved CNN models"
   ]
  },
  {
   "cell_type": "code",
   "execution_count": 21,
   "metadata": {},
   "outputs": [],
   "source": [
    "# Loading 1st model for RGB datasets\n",
    "# (!) On Windows, it might need to change\n",
    "# this: + '/' +\n",
    "# to this: + '\\' +\n",
    "# or to this: + '\\\\' +\n",
    "model = load_model('ts' + '/' + 'model_1_ts_rgb.h5')\n"
   ]
  },
  {
   "cell_type": "code",
   "execution_count": 22,
   "metadata": {},
   "outputs": [
    {
     "name": "stdout",
     "output_type": "stream",
     "text": [
      "('You must install pydot (`pip install pydot`) and install graphviz (see instructions at https://graphviz.gitlab.io/download/) ', 'for plot_model/model_to_dot to work.')\n"
     ]
    }
   ],
   "source": [
    "# Plotting model's layers in form of flowchart\n",
    "# (!) On Windows, it might need to change\n",
    "# this: + '/' +\n",
    "# to this: + '\\' +\n",
    "# or to this: + '\\\\' +\n",
    "plot_model(model,\n",
    "           to_file='ts' + '/' + 'model_1_ts_rgb.png',\n",
    "           show_shapes=True,\n",
    "           show_layer_names=False,\n",
    "           rankdir='TB',\n",
    "           dpi=500)\n"
   ]
  },
  {
   "cell_type": "code",
   "execution_count": 23,
   "metadata": {},
   "outputs": [
    {
     "name": "stdout",
     "output_type": "stream",
     "text": [
      "Model: \"sequential_10\"\n",
      "_________________________________________________________________\n",
      " Layer (type)                Output Shape              Param #   \n",
      "=================================================================\n",
      " conv2d_26 (Conv2D)          (None, 48, 48, 128)       9728      \n",
      "                                                                 \n",
      " max_pooling2d_8 (MaxPooling  (None, 24, 24, 128)      0         \n",
      " 2D)                                                             \n",
      "                                                                 \n",
      " dropout_32 (Dropout)        (None, 24, 24, 128)       0         \n",
      "                                                                 \n",
      " conv2d_27 (Conv2D)          (None, 24, 24, 256)       819456    \n",
      "                                                                 \n",
      " max_pooling2d_9 (MaxPooling  (None, 12, 12, 256)      0         \n",
      " 2D)                                                             \n",
      "                                                                 \n",
      " dropout_33 (Dropout)        (None, 12, 12, 256)       0         \n",
      "                                                                 \n",
      " conv2d_28 (Conv2D)          (None, 12, 12, 512)       3277312   \n",
      "                                                                 \n",
      " max_pooling2d_10 (MaxPoolin  (None, 6, 6, 512)        0         \n",
      " g2D)                                                            \n",
      "                                                                 \n",
      " dropout_34 (Dropout)        (None, 6, 6, 512)         0         \n",
      "                                                                 \n",
      " conv2d_29 (Conv2D)          (None, 6, 6, 1024)        4719616   \n",
      "                                                                 \n",
      " max_pooling2d_11 (MaxPoolin  (None, 3, 3, 1024)       0         \n",
      " g2D)                                                            \n",
      "                                                                 \n",
      " dropout_35 (Dropout)        (None, 3, 3, 1024)        0         \n",
      "                                                                 \n",
      " flatten_10 (Flatten)        (None, 9216)              0         \n",
      "                                                                 \n",
      " dense_20 (Dense)            (None, 2048)              18876416  \n",
      "                                                                 \n",
      " dropout_36 (Dropout)        (None, 2048)              0         \n",
      "                                                                 \n",
      " dense_21 (Dense)            (None, 43)                88107     \n",
      "                                                                 \n",
      "=================================================================\n",
      "Total params: 27,790,635\n",
      "Trainable params: 27,790,635\n",
      "Non-trainable params: 0\n",
      "_________________________________________________________________\n"
     ]
    }
   ],
   "source": [
    "# Showing model's summary in form of table\n",
    "model.summary()\n"
   ]
  },
  {
   "cell_type": "code",
   "execution_count": 24,
   "metadata": {},
   "outputs": [
    {
     "name": "stdout",
     "output_type": "stream",
     "text": [
      "0.3\n",
      "(1, 1)\n",
      "(2, 2)\n",
      "{'class_name': 'InputLayer', 'config': {'batch_input_shape': (None, 48, 48, 3), 'dtype': 'float32', 'sparse': False, 'ragged': False, 'name': 'conv2d_26_input'}}\n"
     ]
    }
   ],
   "source": [
    "# Showing dropout rate\n",
    "print(model.layers[2].rate)\n",
    "\n",
    "# Showing strides for the 1st layer (convolutional)\n",
    "print(model.layers[0].strides)\n",
    "\n",
    "# Showing strides for the 2nd layer (max pooling)\n",
    "print(model.layers[1].strides)\n",
    "\n",
    "# Showing configurations for entire model\n",
    "# print(model.get_config())\n",
    "\n",
    "# Showing configurations for specific layers\n",
    "print(model.get_config()['layers'][0])\n"
   ]
  },
  {
   "cell_type": "markdown",
   "metadata": {},
   "source": [
    "### Some comments\n",
    "\n",
    "To get more details for usage of 'save' method:  \n",
    "**print(help(Sequential.save))**  \n",
    "  \n",
    "More details and examples are here:  \n",
    "https://keras.io/api/models/model_saving_apis/\n",
    "\n",
    "\n",
    "To get more details for usage of 'load_model' function:  \n",
    "**print(help(load_model))**  \n",
    "  \n",
    "More details and examples are here:  \n",
    "https://keras.io/api/utils/model_plotting_utils/\n",
    "\n",
    "\n",
    "To get more details for usage of function 'plot_model':  \n",
    "**print(help(plot_model))**  \n",
    "\n",
    "More details and examples are here:  \n",
    "https://keras.io/api/utils/model_plotting_utils/#plot_model-function  \n"
   ]
  },
  {
   "cell_type": "code",
   "execution_count": null,
   "metadata": {},
   "outputs": [],
   "source": [
    "print(help(Sequential.save))"
   ]
  },
  {
   "cell_type": "code",
   "execution_count": null,
   "metadata": {},
   "outputs": [],
   "source": [
    "print(help(load_model))"
   ]
  },
  {
   "cell_type": "code",
   "execution_count": null,
   "metadata": {},
   "outputs": [],
   "source": [
    "print(help(plot_model))"
   ]
  }
 ],
 "metadata": {
  "kernelspec": {
   "display_name": "Python 3",
   "language": "python",
   "name": "python3"
  },
  "language_info": {
   "codemirror_mode": {
    "name": "ipython",
    "version": 3
   },
   "file_extension": ".py",
   "mimetype": "text/x-python",
   "name": "python",
   "nbconvert_exporter": "python",
   "pygments_lexer": "ipython3",
   "version": "3.8.3"
  }
 },
 "nbformat": 4,
 "nbformat_minor": 2
}
