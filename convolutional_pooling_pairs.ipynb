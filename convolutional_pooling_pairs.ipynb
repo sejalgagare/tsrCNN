{
 "cells": [
  {
   "cell_type": "markdown",
   "metadata": {},
   "source": [
    "# Course:  Convolutional Neural Networks for Image Classification\n",
    "\n",
    "## Section-5\n",
    "### Construct deep architectures for CNN models\n",
    "#### How many Convolutional-Pooling pairs of layers?\n",
    "\n",
    "**Description:**  \n",
    "*Select deepness of network by number of convolutional and pooling layers in a sequence  \n",
    "Interpret notation*\n",
    "\n",
    "**File:** *convolutional_pooling_pairs.ipynb*"
   ]
  },
  {
   "cell_type": "markdown",
   "metadata": {},
   "source": [
    "### Algorithm:\n",
    "\n",
    "**--> Step 1:** Open preprocessed dataset  \n",
    "**--> Step 2:** Convert classes vectors to binary matrices  \n",
    "**--> Step 3:** Choose **number of Convolutional-Pooling pairs**  \n",
    "**--> Step 4:** Visualize built CNN models  \n",
    "**--> Step 5:** Set up learning rate & epochs  \n",
    "**--> Step 6:** Train built CNN models  \n",
    "**--> Step 7:** Show and plot accuracies  \n",
    "**--> Step 8:** Make a conclusion  \n",
    "\n",
    "\n",
    "**Result:**  \n",
    "- Chosen architecture for every preprocessed dataset  \n"
   ]
  },
  {
   "cell_type": "markdown",
   "metadata": {},
   "source": [
    "## Importing libraries"
   ]
  },
  {
   "cell_type": "code",
   "execution_count": 1,
   "metadata": {},
   "outputs": [
    {
     "ename": "ImportError",
     "evalue": "cannot import name 'plot_model' from 'keras.utils' (D:\\Programming\\Python\\lib\\site-packages\\keras\\utils\\__init__.py)",
     "output_type": "error",
     "traceback": [
      "\u001b[1;31m---------------------------------------------------------------------------\u001b[0m",
      "\u001b[1;31mImportError\u001b[0m                               Traceback (most recent call last)",
      "\u001b[1;32m<ipython-input-1-14cecc244ff7>\u001b[0m in \u001b[0;36m<module>\u001b[1;34m\u001b[0m\n\u001b[0;32m      9\u001b[0m \u001b[1;32mfrom\u001b[0m \u001b[0mkeras\u001b[0m\u001b[1;33m.\u001b[0m\u001b[0mlayers\u001b[0m \u001b[1;32mimport\u001b[0m \u001b[0mConv2D\u001b[0m\u001b[1;33m,\u001b[0m \u001b[0mMaxPool2D\u001b[0m\u001b[1;33m,\u001b[0m \u001b[0mFlatten\u001b[0m\u001b[1;33m,\u001b[0m \u001b[0mDense\u001b[0m\u001b[1;33m\u001b[0m\u001b[1;33m\u001b[0m\u001b[0m\n\u001b[0;32m     10\u001b[0m \u001b[1;32mfrom\u001b[0m \u001b[0mkeras\u001b[0m\u001b[1;33m.\u001b[0m\u001b[0mcallbacks\u001b[0m \u001b[1;32mimport\u001b[0m \u001b[0mLearningRateScheduler\u001b[0m\u001b[1;33m\u001b[0m\u001b[1;33m\u001b[0m\u001b[0m\n\u001b[1;32m---> 11\u001b[1;33m \u001b[1;32mfrom\u001b[0m \u001b[0mkeras\u001b[0m\u001b[1;33m.\u001b[0m\u001b[0mutils\u001b[0m \u001b[1;32mimport\u001b[0m \u001b[0mplot_model\u001b[0m\u001b[1;33m\u001b[0m\u001b[1;33m\u001b[0m\u001b[0m\n\u001b[0m",
      "\u001b[1;31mImportError\u001b[0m: cannot import name 'plot_model' from 'keras.utils' (D:\\Programming\\Python\\lib\\site-packages\\keras\\utils\\__init__.py)"
     ]
    }
   ],
   "source": [
    "# Importing needed libraries\n",
    "import matplotlib.pyplot as plt\n",
    "import numpy as np\n",
    "import h5py\n",
    "\n",
    "\n",
    "from keras.utils.np_utils import to_categorical\n",
    "from keras.models import Sequential\n",
    "from keras.layers import Conv2D, MaxPool2D, Flatten, Dense\n",
    "from keras.callbacks import LearningRateScheduler\n",
    "from keras.utils import plot_model\n",
    "\n"
   ]
  },
  {
   "cell_type": "markdown",
   "metadata": {},
   "source": [
    "## Setting up full path to preprocessed datasets"
   ]
  },
  {
   "cell_type": "code",
   "execution_count": 2,
   "metadata": {},
   "outputs": [],
   "source": [
    "# Full or absolute path to 'Section4' with preprocessed datasets\n",
    "# (!) On Windows, the path should look like following:\n",
    "# r'C:\\Users\\your_name\\PycharmProjects\\CNNCourse\\Section4'\n",
    "# or:\n",
    "# 'C:\\\\Users\\\\your_name\\\\PycharmProjects\\\\CNNCourse\\\\Section4'\n",
    "full_path_to_Section4 = \\\n",
    "    'D:\\Programming\\Jupiter Notebook\\Project\\Section4'\n"
   ]
  },
  {
   "cell_type": "markdown",
   "metadata": {},
   "source": [
    "### RGB Traffic Signs dataset (255.0 ==> mean ==> std)\n",
    "\n",
    "## Step 1: Opening preprocessed dataset"
   ]
  },
  {
   "cell_type": "code",
   "execution_count": null,
   "metadata": {},
   "outputs": [],
   "source": [
    "# Opening saved Traffic Signs dataset from HDF5 binary file\n",
    "# Initiating File object\n",
    "# Opening file in reading mode by 'r'\n",
    "# (!) On Windows, it might need to change\n",
    "# this: + '/' +\n",
    "# to this: + '\\' +\n",
    "# or to this: + '\\\\' +\n",
    "with h5py.File(full_path_to_Section4 + '/' + 'ts' + '/' + \n",
    "               'dataset_ts_rgb_255_mean_std.hdf5', 'r') as f:\n",
    "    \n",
    "    # Showing all keys in the HDF5 binary file\n",
    "    print(list(f.keys()))\n",
    "    \n",
    "    # Extracting saved arrays for training by appropriate keys\n",
    "    # Saving them into new variables    \n",
    "    x_train = f['x_train']  # HDF5 dataset\n",
    "    y_train = f['y_train']  # HDF5 dataset\n",
    "    # Converting them into Numpy arrays\n",
    "    x_train = np.array(x_train)  # Numpy arrays\n",
    "    y_train = np.array(y_train)  # Numpy arrays\n",
    "    \n",
    "    \n",
    "    # Extracting saved arrays for validation by appropriate keys\n",
    "    # Saving them into new variables \n",
    "    x_validation = f['x_validation']  # HDF5 dataset\n",
    "    y_validation = f['y_validation']  # HDF5 dataset\n",
    "    # Converting them into Numpy arrays\n",
    "    x_validation = np.array(x_validation)  # Numpy arrays\n",
    "    y_validation = np.array(y_validation)  # Numpy arrays\n",
    "    \n",
    "    \n",
    "    # Extracting saved arrays for testing by appropriate keys\n",
    "    # Saving them into new variables \n",
    "    x_test = f['x_test']  # HDF5 dataset\n",
    "    y_test = f['y_test']  # HDF5 dataset\n",
    "    # Converting them into Numpy arrays\n",
    "    x_test = np.array(x_test)  # Numpy arrays\n",
    "    y_test = np.array(y_test)  # Numpy arrays\n"
   ]
  },
  {
   "cell_type": "code",
   "execution_count": null,
   "metadata": {},
   "outputs": [],
   "source": [
    "# Showing types of loaded arrays\n",
    "print(type(x_train))\n",
    "print(type(y_train))\n",
    "print(type(x_validation))\n",
    "print(type(y_validation))\n",
    "print(type(x_test))\n",
    "print(type(y_test))\n",
    "print()\n",
    "\n",
    "\n",
    "# Showing shapes of loaded arrays\n",
    "print(x_train.shape)\n",
    "print(y_train.shape)\n",
    "print(x_validation.shape)\n",
    "print(y_validation.shape)\n",
    "print(x_test.shape)\n",
    "print(y_test.shape)\n"
   ]
  },
  {
   "cell_type": "markdown",
   "metadata": {},
   "source": [
    "### RGB Traffic Signs dataset (255.0 ==> mean ==> std)\n",
    "\n",
    "## Step 2: Converting classes vectors to classes matrices"
   ]
  },
  {
   "cell_type": "code",
   "execution_count": null,
   "metadata": {},
   "outputs": [],
   "source": [
    "# Showing class index from the vector\n",
    "print('Class index from vector:', y_train[0])\n",
    "print()\n",
    "\n",
    "# Preparing classes to be passed into the model\n",
    "# Transforming them from vectors to binary matrices\n",
    "# It is needed to set relationship between classes to be understood by the algorithm\n",
    "# Such format is commonly used in training and predicting\n",
    "y_train = to_categorical(y_train, num_classes = 43)\n",
    "y_validation = to_categorical(y_validation, num_classes = 43)\n",
    "\n",
    "\n",
    "# Showing shapes of converted vectors into matrices\n",
    "print(y_train.shape)\n",
    "print(y_validation.shape)\n",
    "print()\n",
    "\n",
    "\n",
    "# Showing class index from the matrix\n",
    "print('Class index from matrix:', y_train[0])\n"
   ]
  },
  {
   "cell_type": "markdown",
   "metadata": {},
   "source": [
    "### RGB Traffic Signs dataset (255.0 ==> mean ==> std)\n",
    "\n",
    "## Step 3: Choosing number of Convolutional-Pooling pairs"
   ]
  },
  {
   "cell_type": "markdown",
   "metadata": {},
   "source": [
    "### Notation\n",
    "\n",
    "**C** - convolutional layer  \n",
    "**P** - pooling  \n",
    "  \n",
    "Examples:\n",
    "* **8C5** - convolutional layer with 8 feature maps and kernels of spatial size 5x5  \n",
    "* **P2** - pooling operation with 2x2 window and stride 2  \n",
    "*  **128** - fully connected layer (dense layer) with 128 neurons  \n",
    "  \n",
    "Definitions:\n",
    "* **filters** (also called as kernels or cores) are trainable parameters  \n",
    "* **weights** are values of filters that network learns during training  \n",
    "* **strides** are steps by which window of filter size goes through the input  \n",
    "* **padding** is a 0-valued frame used to process edges of the input  \n",
    "  \n",
    "Some keywords values:\n",
    "* **kernel_size=5** sets the filter size to be 5x5\n",
    "* **strides=1** is a default value\n",
    "* **padding='valid'** is a default value, meaning that output will be reduced: kernel_size - 1  \n",
    "* **padding='same'** means that output will be of the same spatial size as input  \n",
    "* **activation='relu'** sets ReLU (Rectified Linear Unit) as activation function  \n",
    "  \n",
    "Calculations of spatial size for feature maps after convolutional layer:  \n",
    "* **height_output = 1 + (height_input + 2 * pad - kernel_size) / stride**\n",
    "* **width_output = 1 + (width_input + 2 * pad - kernel_size) / stride**\n",
    "  \n",
    "Example without pad frame:\n",
    "* **height_output = 1 + (64 + 2 * 0 - 5) / 1 = 60**\n",
    "* **width_output = 1 + (64 + 2 * 0 - 5) / 1 = 60**\n",
    "  \n",
    "Example with pad frame:\n",
    "* **height_output = 1 + (64 + 2 * 2 - 5) / 1 = 64**\n",
    "* **width_output = 1 + (64 + 2 * 2 - 5) / 1 = 64**\n",
    "  "
   ]
  },
  {
   "cell_type": "code",
   "execution_count": null,
   "metadata": {},
   "outputs": [],
   "source": [
    "# Building 1st model\n",
    "# RGB --> {8C5-P2} --> 128 --> 43\n",
    "\n",
    "# Initializing model to be as linear stack of layers\n",
    "model_1 = Sequential()\n",
    "\n",
    "# Adding first pair {8C5-P2}\n",
    "model_1.add(Conv2D(8, kernel_size=5, padding='same', activation='relu', input_shape=(48, 48, 3)))\n",
    "model_1.add(MaxPool2D())\n",
    "\n",
    "# Adding fully connected layers\n",
    "model_1.add(Flatten())\n",
    "model_1.add(Dense(128, activation='relu'))\n",
    "model_1.add(Dense(43, activation='softmax'))\n",
    "\n",
    "# Compiling created model\n",
    "model_1.compile(optimizer='adam', loss='categorical_crossentropy', metrics=['accuracy'])\n",
    "\n",
    "# Check point\n",
    "print('1st model is compiled successfully')\n",
    "\n",
    "\n",
    "\n",
    "# Building 2nd model\n",
    "# RGB --> {8C5-P2} --> {16C5-P2} --> 128 --> 43\n",
    "\n",
    "# Initializing model to be as linear stack of layers\n",
    "model_2 = Sequential()\n",
    "\n",
    "# Adding first pair {8C5-P2}\n",
    "model_2.add(Conv2D(8, kernel_size=5, padding='same', activation='relu', input_shape=(48, 48, 3)))\n",
    "model_2.add(MaxPool2D())\n",
    "\n",
    "# Adding second pair {16C5-P2}\n",
    "model_2.add(Conv2D(16, kernel_size=5, padding='same', activation='relu'))\n",
    "model_2.add(MaxPool2D())\n",
    "\n",
    "# Adding fully connected layers\n",
    "model_2.add(Flatten())\n",
    "model_2.add(Dense(128, activation='relu'))\n",
    "model_2.add(Dense(43, activation='softmax'))\n",
    "\n",
    "# Compiling created model\n",
    "model_2.compile(optimizer='adam', loss='categorical_crossentropy', metrics=['accuracy'])\n",
    "\n",
    "# Check point\n",
    "print('2nd model is compiled successfully')\n",
    "\n",
    "\n",
    "\n",
    "# Building 3rd model\n",
    "# RGB --> {8C5-P2} --> {16C5-P2} --> {32C5-P2} --> 128 --> 43\n",
    "\n",
    "# Initializing model to be as linear stack of layers\n",
    "model_3 = Sequential()\n",
    "\n",
    "# Adding first pair {8C5-P2}\n",
    "model_3.add(Conv2D(8, kernel_size=5, padding='same', activation='relu', input_shape=(48, 48, 3)))\n",
    "model_3.add(MaxPool2D())\n",
    "\n",
    "# Adding second pair {16C5-P2}\n",
    "model_3.add(Conv2D(16, kernel_size=5, padding='same', activation='relu'))\n",
    "model_3.add(MaxPool2D())\n",
    "\n",
    "# Adding third pair {32C5-P2}\n",
    "model_3.add(Conv2D(32, kernel_size=5, padding='same', activation='relu'))\n",
    "model_3.add(MaxPool2D())\n",
    "\n",
    "# Adding fully connected layers\n",
    "model_3.add(Flatten())\n",
    "model_3.add(Dense(128, activation='relu'))\n",
    "model_3.add(Dense(43, activation='softmax'))\n",
    "\n",
    "# Compiling created model\n",
    "model_3.compile(optimizer='adam', loss='categorical_crossentropy', metrics=['accuracy'])\n",
    "\n",
    "# Check point\n",
    "print('3rd model is compiled successfully')\n",
    "\n",
    "\n",
    "\n",
    "# Building 4th model\n",
    "# RGB --> {8C5-P2} --> {16C5-P2} --> {32C5-P2} --> {64C3-P2} --> 128 --> 43\n",
    "\n",
    "# Initializing model to be as linear stack of layers\n",
    "model_4 = Sequential()\n",
    "\n",
    "# Adding first pair {8C5-P2}\n",
    "model_4.add(Conv2D(8, kernel_size=5, padding='same', activation='relu', input_shape=(48, 48, 3)))\n",
    "model_4.add(MaxPool2D())\n",
    "\n",
    "# Adding second pair {16C5-P2}\n",
    "model_4.add(Conv2D(16, kernel_size=5, padding='same', activation='relu'))\n",
    "model_4.add(MaxPool2D())\n",
    "\n",
    "# Adding third pair {32C5-P2}\n",
    "model_4.add(Conv2D(32, kernel_size=5, padding='same', activation='relu'))\n",
    "model_4.add(MaxPool2D())\n",
    "\n",
    "# Adding fourth pair {64C5-P2}\n",
    "model_4.add(Conv2D(64, kernel_size=3, padding='same', activation='relu'))\n",
    "model_4.add(MaxPool2D())\n",
    "\n",
    "# Adding fully connected layers\n",
    "model_4.add(Flatten())\n",
    "model_4.add(Dense(128, activation='relu'))\n",
    "model_4.add(Dense(43, activation='softmax'))\n",
    "\n",
    "# Compiling created model\n",
    "model_4.compile(optimizer='adam', loss='categorical_crossentropy', metrics=['accuracy'])\n",
    "\n",
    "# Check point\n",
    "print('4th model is compiled successfully')\n"
   ]
  },
  {
   "cell_type": "markdown",
   "metadata": {},
   "source": [
    "### RGB Traffic Signs dataset (255.0 ==> mean ==> std)\n",
    "\n",
    "## Step 4: Visualizing built CNN models"
   ]
  },
  {
   "cell_type": "code",
   "execution_count": null,
   "metadata": {
    "scrolled": true
   },
   "outputs": [],
   "source": [
    "# Plotting model's layers in form of flowchart\n",
    "plot_model(model_4,\n",
    "           to_file='model.png',\n",
    "           show_shapes=True,\n",
    "           show_layer_names=False,\n",
    "           rankdir='TB',\n",
    "           dpi=500)\n"
   ]
  },
  {
   "cell_type": "code",
   "execution_count": null,
   "metadata": {},
   "outputs": [],
   "source": [
    "# Showing model's summary in form of table\n",
    "model_4.summary()\n"
   ]
  },
  {
   "cell_type": "markdown",
   "metadata": {},
   "source": [
    "### RGB Traffic Signs dataset (255.0 ==> mean ==> std)\n",
    "\n",
    "## Step 5: Setting up learning rate & epochs"
   ]
  },
  {
   "cell_type": "code",
   "execution_count": null,
   "metadata": {},
   "outputs": [],
   "source": [
    "# Defining number of epochs\n",
    "epochs = 20\n",
    "\n",
    "# Defining schedule to update learning rate\n",
    "learning_rate = LearningRateScheduler(lambda x: 1e-3 * 0.95 ** (x + epochs), verbose=1)\n",
    "\n",
    "# Check point\n",
    "print('Number of epochs and schedule for learning rate are set successfully')\n"
   ]
  },
  {
   "cell_type": "markdown",
   "metadata": {},
   "source": [
    "### RGB Traffic Signs dataset (255.0 ==> mean ==> std)\n",
    "\n",
    "## Step 6: Training built CNN models"
   ]
  },
  {
   "cell_type": "code",
   "execution_count": null,
   "metadata": {
    "scrolled": true
   },
   "outputs": [],
   "source": [
    "# If you're using Nvidia GPU and 'cnngpu' environment, there might be an issue like:\n",
    "'''Failed to get convolution algorithm. This is probably because cuDNN failed to initialize'''\n",
    "# In this case, close all Jupyter Notebooks, close Terminal Window or Anaconda Prompt\n",
    "# Open again just this one Jupyter Notebook and run it\n",
    "\n",
    "\n",
    "# Training 1st model\n",
    "h_1 = model_1.fit(x_train, y_train,\n",
    "                  batch_size=50,\n",
    "                  epochs=epochs, \n",
    "                  validation_data=(x_validation, y_validation),\n",
    "                  callbacks=[learning_rate],\n",
    "                  verbose=1)\n",
    "\n",
    "\n",
    "# Training 2nd model\n",
    "h_2 = model_2.fit(x_train, y_train,\n",
    "                  batch_size=50,\n",
    "                  epochs=epochs, \n",
    "                  validation_data=(x_validation, y_validation),\n",
    "                  callbacks=[learning_rate],\n",
    "                  verbose=1)\n",
    "\n",
    "\n",
    "# Training 3rd model\n",
    "h_3 = model_3.fit(x_train, y_train,\n",
    "                  batch_size=50,\n",
    "                  epochs=epochs, \n",
    "                  validation_data=(x_validation, y_validation),\n",
    "                  callbacks=[learning_rate],\n",
    "                  verbose=1)\n",
    "\n",
    "\n",
    "# Training 4th model\n",
    "h_4 = model_4.fit(x_train, y_train,\n",
    "                  batch_size=50,\n",
    "                  epochs=epochs, \n",
    "                  validation_data=(x_validation, y_validation),\n",
    "                  callbacks=[learning_rate],\n",
    "                  verbose=1)\n"
   ]
  },
  {
   "cell_type": "markdown",
   "metadata": {},
   "source": [
    "### RGB Traffic Signs dataset (255.0 ==> mean ==> std)\n",
    "\n",
    "## Step 7: Showing and plotting accuracies"
   ]
  },
  {
   "cell_type": "code",
   "execution_count": null,
   "metadata": {},
   "outputs": [],
   "source": [
    "# Accuracies of the 1st model\n",
    "print('Model 1: Training accuracy={0:.5f}, Validation accuracy={1:.5f}'.\n",
    "                                                           format(max(h_1.history['accuracy']),\n",
    "                                                                  max(h_1.history['val_accuracy'])))\n",
    "\n",
    "\n",
    "# Accuracies of the 2nd model\n",
    "print('Model 2: Training accuracy={0:.5f}, Validation accuracy={1:.5f}'.\n",
    "                                                           format(max(h_2.history['accuracy']),\n",
    "                                                                  max(h_2.history['val_accuracy'])))\n",
    "\n",
    "\n",
    "# Accuracies of the 3rd model\n",
    "print('Model 3: Training accuracy={0:.5f}, Validation accuracy={1:.5f}'.\n",
    "                                                           format(max(h_3.history['accuracy']),\n",
    "                                                                  max(h_3.history['val_accuracy'])))\n",
    "\n",
    "\n",
    "# Accuracies of the 4th model\n",
    "print('Model 4: Training accuracy={0:.5f}, Validation accuracy={1:.5f}'.\n",
    "                                                          format(max(h_4.history['accuracy']),\n",
    "                                                                 max(h_4.history['val_accuracy'])))\n"
   ]
  },
  {
   "cell_type": "code",
   "execution_count": null,
   "metadata": {},
   "outputs": [],
   "source": [
    "# Magic function that renders the figure in a jupyter notebook\n",
    "# instead of displaying a figure object\n",
    "%matplotlib inline\n",
    "\n",
    "\n",
    "# Setting default size of the plot\n",
    "plt.rcParams['figure.figsize'] = (12.0, 6.0)\n",
    "\n",
    "\n",
    "# Plotting accuracies for every model\n",
    "plt.plot(h_1.history['val_accuracy'], '-o')\n",
    "plt.plot(h_2.history['val_accuracy'], '-o')\n",
    "plt.plot(h_3.history['val_accuracy'], '-o')\n",
    "plt.plot(h_4.history['val_accuracy'], '-o')\n",
    "\n",
    "\n",
    "# Setting limit along Y axis\n",
    "plt.ylim(0.94, 0.995)\n",
    "\n",
    "\n",
    "# Showing legend\n",
    "plt.legend(['model_1', 'model_2', 'model_3', 'model_4'], loc='lower right', fontsize='xx-large')\n",
    "\n",
    "\n",
    "# Giving name to axes\n",
    "plt.xlabel('Epoch', fontsize=16)\n",
    "plt.ylabel('Accuracy', fontsize=16)\n",
    "\n",
    "\n",
    "# Giving name to the plot\n",
    "plt.title('Models accuracies: Traffic Signs dataset', fontsize=16)\n",
    "\n",
    "\n",
    "# Showing the plot\n",
    "plt.show()\n"
   ]
  },
  {
   "cell_type": "code",
   "execution_count": null,
   "metadata": {},
   "outputs": [],
   "source": [
    "# Showing list of scheduled learning rate for every epoch\n",
    "print(h_1.history['lr'])\n"
   ]
  },
  {
   "cell_type": "code",
   "execution_count": null,
   "metadata": {},
   "outputs": [],
   "source": [
    "# Magic function that renders the figure in a jupyter notebook\n",
    "# instead of displaying a figure object\n",
    "%matplotlib inline\n",
    "\n",
    "\n",
    "# Plotting scheduled learning rate\n",
    "plt.plot(h_1.history['lr'], '-mo')\n",
    "\n",
    "\n",
    "# Showing the plot\n",
    "plt.show()\n"
   ]
  },
  {
   "cell_type": "markdown",
   "metadata": {},
   "source": [
    "### RGB Traffic Signs dataset (255.0 ==> mean ==> std)\n",
    "\n",
    "## Step 8: Making a conclusion"
   ]
  },
  {
   "cell_type": "code",
   "execution_count": null,
   "metadata": {},
   "outputs": [],
   "source": [
    "# According to validation accuracy, the 4th model has the highest value\n",
    "\n",
    "# The choice for Traffic Signs dataset is 4th model\n",
    "# RGB input --> {8C5-P2} --> {16C5-P2} --> {32C5-P2} --> {64C3-P2} --> 128 --> 43\n",
    "# GRAY input --> {8C5-P2} --> {16C5-P2} --> {32C5-P2} --> {64C3-P2} --> 128 --> 43\n",
    "\n",
    "# RGB input: (48, 48, 3)\n",
    "# GRAY input: (48, 48, 1)\n"
   ]
  },
  {
   "cell_type": "markdown",
   "metadata": {},
   "source": [
    "### Some comments\n",
    "\n",
    "To get more details for usage of 'Sequential' class:  \n",
    "**print(help(Sequential))**  \n",
    "  \n",
    "More details and examples are here:  \n",
    "https://keras.io/api/models/sequential/\n",
    "\n",
    "\n",
    "To get more details for usage of function 'to_categorical':  \n",
    "**print(help(to_categorical))**  \n",
    "\n",
    "More details and examples are here:  \n",
    "https://keras.io/api/utils/python_utils/#to_categorical-function \n",
    "\n",
    "\n",
    "To get more details for usage of function 'plot_model':  \n",
    "**print(help(plot_model))**  \n",
    "\n",
    "More details and examples are here:  \n",
    "https://keras.io/api/utils/model_plotting_utils/#plot_model-function  \n",
    "\n",
    "\n",
    "To get more details for usage of function 'plt.plot':  \n",
    "**print(help(plt.plot))**  \n",
    "\n",
    "More details and examples are here:  \n",
    "https://matplotlib.org/3.1.3/api/_as_gen/matplotlib.pyplot.plot.html\n"
   ]
  },
  {
   "cell_type": "code",
   "execution_count": null,
   "metadata": {},
   "outputs": [],
   "source": [
    "print(help(Sequential))"
   ]
  },
  {
   "cell_type": "code",
   "execution_count": null,
   "metadata": {
    "scrolled": false
   },
   "outputs": [],
   "source": [
    "print(help(to_categorical))"
   ]
  },
  {
   "cell_type": "code",
   "execution_count": null,
   "metadata": {},
   "outputs": [],
   "source": [
    "print(help(plot_model))"
   ]
  },
  {
   "cell_type": "code",
   "execution_count": null,
   "metadata": {},
   "outputs": [],
   "source": [
    "print(help(plt.plot))"
   ]
  }
 ],
 "metadata": {
  "kernelspec": {
   "display_name": "Python 3",
   "language": "python",
   "name": "python3"
  },
  "language_info": {
   "codemirror_mode": {
    "name": "ipython",
    "version": 3
   },
   "file_extension": ".py",
   "mimetype": "text/x-python",
   "name": "python",
   "nbconvert_exporter": "python",
   "pygments_lexer": "ipython3",
   "version": "3.8.3"
  }
 },
 "nbformat": 4,
 "nbformat_minor": 2
}
